{
 "cells": [
  {
   "cell_type": "code",
   "execution_count": 1,
   "metadata": {},
   "outputs": [],
   "source": [
    "import os\n",
    "import boto3\n",
    "from dotenv import load_dotenv"
   ]
  },
  {
   "cell_type": "code",
   "execution_count": 2,
   "metadata": {},
   "outputs": [
    {
     "data": {
      "text/plain": [
       "True"
      ]
     },
     "execution_count": 2,
     "metadata": {},
     "output_type": "execute_result"
    }
   ],
   "source": [
    "load_dotenv()"
   ]
  },
  {
   "cell_type": "code",
   "execution_count": 3,
   "metadata": {},
   "outputs": [],
   "source": [
    "access_key_id = os.getenv(\"Access_key_ID\")\n",
    "secret_access_key = os.getenv(\"Secret_access_key\")\n",
    "bucket_name = os.getenv(\"BUCKET_NAME\")\n",
    "order_data_path = os.getenv(\"ORDER_DATA_PATH\")\n",
    "order_items_data_path = os.getenv(\"ORDER_ITEMS_DATA_PATH\")\n",
    "product_data_path = os.getenv(\"PRODUCT_DATA_PATH\")\n",
    "region_name = os.getenv(\"REGION_NAME\")"
   ]
  },
  {
   "cell_type": "code",
   "execution_count": 4,
   "metadata": {},
   "outputs": [],
   "source": [
    "s3 = boto3.client('s3',\n",
    "                  aws_access_key_id=access_key_id,\n",
    "                  aws_secret_access_key=secret_access_key,\n",
    "                  region_name=region_name)"
   ]
  },
  {
   "cell_type": "code",
   "execution_count": 5,
   "metadata": {},
   "outputs": [
    {
     "name": "stdout",
     "output_type": "stream",
     "text": [
      "/home/brempong/-E-Commerce-Event-Driven-Data-Pipeline/S3\n"
     ]
    }
   ],
   "source": [
    "print(os.getcwd())\n"
   ]
  },
  {
   "cell_type": "code",
   "execution_count": 6,
   "metadata": {},
   "outputs": [],
   "source": [
    "files = os.listdir(order_data_path)\n"
   ]
  },
  {
   "cell_type": "code",
   "execution_count": 7,
   "metadata": {},
   "outputs": [
    {
     "data": {
      "text/plain": [
       "['orders_part3.csv',\n",
       " 'orders_part6.csv',\n",
       " 'orders_part5.csv',\n",
       " 'orders_part4.csv',\n",
       " 'orders_part2.csv',\n",
       " 'orders_part1.csv']"
      ]
     },
     "execution_count": 7,
     "metadata": {},
     "output_type": "execute_result"
    }
   ],
   "source": [
    "files"
   ]
  },
  {
   "cell_type": "code",
   "execution_count": 8,
   "metadata": {},
   "outputs": [],
   "source": [
    "files2 = os.listdir(order_items_data_path)"
   ]
  },
  {
   "cell_type": "code",
   "execution_count": 9,
   "metadata": {},
   "outputs": [
    {
     "data": {
      "text/plain": [
       "['order_items_part18.csv',\n",
       " 'order_items_part13.csv',\n",
       " 'order_items_part1.csv',\n",
       " 'order_items_part5.csv',\n",
       " 'order_items_part10.csv',\n",
       " 'order_items_part12.csv',\n",
       " 'order_items_part14.csv',\n",
       " 'order_items_part15.csv',\n",
       " 'order_items_part17.csv',\n",
       " 'order_items_part9.csv',\n",
       " 'order_items_part11.csv',\n",
       " 'order_items_part7.csv',\n",
       " 'order_items_part6.csv',\n",
       " 'order_items_part19.csv',\n",
       " 'order_items_part3.csv',\n",
       " 'order_items_part8.csv',\n",
       " 'order_items_part4.csv',\n",
       " 'order_items_part2.csv',\n",
       " 'order_items_part16.csv']"
      ]
     },
     "execution_count": 9,
     "metadata": {},
     "output_type": "execute_result"
    }
   ],
   "source": [
    "files2\n"
   ]
  },
  {
   "cell_type": "code",
   "execution_count": 10,
   "metadata": {},
   "outputs": [
    {
     "name": "stdout",
     "output_type": "stream",
     "text": [
      "Uploaded orders_part3.csv to S3 bucket ecommerce-event-data/orders/orders_part3.csv\n",
      "Uploaded orders_part6.csv to S3 bucket ecommerce-event-data/orders/orders_part6.csv\n",
      "Uploaded orders_part5.csv to S3 bucket ecommerce-event-data/orders/orders_part5.csv\n",
      "Uploaded orders_part4.csv to S3 bucket ecommerce-event-data/orders/orders_part4.csv\n",
      "Uploaded orders_part2.csv to S3 bucket ecommerce-event-data/orders/orders_part2.csv\n",
      "Uploaded orders_part1.csv to S3 bucket ecommerce-event-data/orders/orders_part1.csv\n",
      "Uploaded order_items_part18.csv to S3 bucket ecommerce-event-data/order_items/order_items_part18.csv\n",
      "Uploaded order_items_part13.csv to S3 bucket ecommerce-event-data/order_items/order_items_part13.csv\n",
      "Uploaded order_items_part1.csv to S3 bucket ecommerce-event-data/order_items/order_items_part1.csv\n",
      "Uploaded order_items_part5.csv to S3 bucket ecommerce-event-data/order_items/order_items_part5.csv\n",
      "Uploaded order_items_part10.csv to S3 bucket ecommerce-event-data/order_items/order_items_part10.csv\n",
      "Uploaded order_items_part12.csv to S3 bucket ecommerce-event-data/order_items/order_items_part12.csv\n",
      "Uploaded order_items_part14.csv to S3 bucket ecommerce-event-data/order_items/order_items_part14.csv\n",
      "Uploaded order_items_part15.csv to S3 bucket ecommerce-event-data/order_items/order_items_part15.csv\n",
      "Uploaded order_items_part17.csv to S3 bucket ecommerce-event-data/order_items/order_items_part17.csv\n",
      "Uploaded order_items_part9.csv to S3 bucket ecommerce-event-data/order_items/order_items_part9.csv\n",
      "Uploaded order_items_part11.csv to S3 bucket ecommerce-event-data/order_items/order_items_part11.csv\n",
      "Uploaded order_items_part7.csv to S3 bucket ecommerce-event-data/order_items/order_items_part7.csv\n",
      "Uploaded order_items_part6.csv to S3 bucket ecommerce-event-data/order_items/order_items_part6.csv\n",
      "Uploaded order_items_part19.csv to S3 bucket ecommerce-event-data/order_items/order_items_part19.csv\n",
      "Uploaded order_items_part3.csv to S3 bucket ecommerce-event-data/order_items/order_items_part3.csv\n",
      "Uploaded order_items_part8.csv to S3 bucket ecommerce-event-data/order_items/order_items_part8.csv\n",
      "Uploaded order_items_part4.csv to S3 bucket ecommerce-event-data/order_items/order_items_part4.csv\n",
      "Uploaded order_items_part2.csv to S3 bucket ecommerce-event-data/order_items/order_items_part2.csv\n",
      "Uploaded order_items_part16.csv to S3 bucket ecommerce-event-data/order_items/order_items_part16.csv\n"
     ]
    }
   ],
   "source": [
    "for file in files:\n",
    "    file_path = os.path.join(order_data_path, file)\n",
    "    try:\n",
    "        s3.upload_file(file_path, bucket_name, f\"orders/{file}\")\n",
    "        print(f\"Uploaded {file} to S3 bucket {bucket_name}/orders/{file}\")\n",
    "    except Exception as e:\n",
    "        print(f\"Error uploading {file} to S3: {e}\")\n",
    "for file in files2:\n",
    "    file_path = os.path.join(order_items_data_path, file)\n",
    "    try:\n",
    "        s3.upload_file(file_path, bucket_name, f\"order_items/{file}\")\n",
    "        print(f\"Uploaded {file} to S3 bucket {bucket_name}/order_items/{file}\")\n",
    "    except Exception as e:\n",
    "        print(f\"Error uploading {file} to S3: {e}\")\n"
   ]
  },
  {
   "cell_type": "code",
   "execution_count": 11,
   "metadata": {},
   "outputs": [
    {
     "name": "stdout",
     "output_type": "stream",
     "text": [
      "Uploaded Data/products.csv to S3 bucket ecommerce-event-data/Data/products.csv\n"
     ]
    }
   ],
   "source": [
    "try:\n",
    "    response = s3.upload_file(product_data_path, bucket_name, f\"{product_data_path}\")\n",
    "    print(f\"Uploaded {product_data_path} to S3 bucket {bucket_name}/{product_data_path}\")\n",
    "except Exception as e:\n",
    "    print(f\"Error uploading {product_data_path} to S3: {e}\")\n",
    "    raise"
   ]
  },
  {
   "cell_type": "code",
   "execution_count": null,
   "metadata": {},
   "outputs": [],
   "source": []
  }
 ],
 "metadata": {
  "kernelspec": {
   "display_name": "venv",
   "language": "python",
   "name": "python3"
  },
  "language_info": {
   "codemirror_mode": {
    "name": "ipython",
    "version": 3
   },
   "file_extension": ".py",
   "mimetype": "text/x-python",
   "name": "python",
   "nbconvert_exporter": "python",
   "pygments_lexer": "ipython3",
   "version": "3.12.3"
  }
 },
 "nbformat": 4,
 "nbformat_minor": 2
}
